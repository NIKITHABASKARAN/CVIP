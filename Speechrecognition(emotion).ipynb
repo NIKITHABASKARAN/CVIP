{
 "cells": [
  {
   "cell_type": "code",
   "execution_count": 7,
   "id": "a11a5d5b",
   "metadata": {},
   "outputs": [],
   "source": [
    "import speech_recognition as sr\n",
    "import pyttsx3"
   ]
  },
  {
   "cell_type": "code",
   "execution_count": null,
   "id": "962280d5",
   "metadata": {},
   "outputs": [],
   "source": [
    "def recognize_emotion(audio_path):\n",
    "    recognizer = sr.Recognizer()\n",
    "\n",
    "    with sr.AudioFile(audio_path) as source:\n",
    "        print(\"Analyzing audio...\")\n",
    "        audio_data = recognizer.record(source)\n",
    "\n",
    "    try:\n",
    "        print(\"Transcribing speech...\")\n",
    "        text = recognizer.recognize_google(audio_data)\n",
    "        print(\"Transcription: \", text)\n",
    "\n",
    "        print(\"Analyzing emotion...\")\n",
    "        result = DeepFace.analyze(text, actions=['emotion'])\n",
    "        emotion = result['dominant_emotion']\n",
    "        print(\"Dominant Emotion: \", emotion)\n",
    "\n",
    "    except sr.UnknownValueError:\n",
    "        print(\"Speech Recognition could not understand audio.\")\n",
    "    except sr.RequestError as e:\n",
    "        print(f\"Could not request results from Google Speech Recognition service; {e}\")\n",
    "\n",
    "if __name__ == \"__main__\":\n",
    "    audio_file_path = \"E://sample1.wav\"  \n",
    "    recognize_emotion(audio_file_path)"
   ]
  },
  {
   "cell_type": "code",
   "execution_count": 12,
   "id": "b3b86a06",
   "metadata": {},
   "outputs": [],
   "source": [
    "r=sr.Recognizer()\n",
    "\n",
    "def SpeakText(command):\n",
    "  engine=pyttsx3.init()\n",
    "  engine.say(command)\n",
    "  engine.runAndWait()\n"
   ]
  },
  {
   "cell_type": "code",
   "execution_count": 20,
   "id": "a4ebdf72",
   "metadata": {},
   "outputs": [
    {
     "name": "stdout",
     "output_type": "stream",
     "text": [
      "Too much background noise\n",
      "speak now\n"
     ]
    }
   ],
   "source": [
    "with sr.Microphone() as source2:\n",
    "    print(\"Too much background noise\")\n",
    "    r.adjust_for_ambient_noise(source2,duration=2)\n",
    "    print(\"speak now\")\n",
    "    \n",
    "    audio2 = r.listen(source2)\n",
    "   "
   ]
  },
  {
   "cell_type": "code",
   "execution_count": null,
   "id": "f1437796",
   "metadata": {},
   "outputs": [],
   "source": [
    "def recognize_emotion(text):\n",
    "    analysis = TextBlob(text)\n",
    "    polarity = analysis.sentiment.polarity\n",
    "\n",
    "    if polarity > 0.5:\n",
    "        return \"happy\"\n",
    "    elif polarity < -0.5:\n",
    "        return \"sad\"\n",
    "    elif polarity > 0:\n",
    "        return \"neutral\"\n",
    "    else:\n",
    "        return \"unknown\"\n",
    "\n",
    "def speech_to_text():\n",
    "    recognizer = sr.Recognizer()\n",
    "\n",
    "    with sr.Microphone() as source:\n",
    "        print(\"Say something:\")\n",
    "        audio = recognizer.listen(source)\n",
    "\n",
    "    try:\n",
    "        print(\"Recognizing...\")\n",
    "        text = recognizer.recognize_google(audio)\n",
    "        return text\n",
    "    except sr.UnknownValueError:\n",
    "        print(\"Could not understand audio\")\n",
    "        return \"\"\n",
    "    except sr.RequestError as e:\n",
    "        print(f\"Could not request results from Google Speech Recognition service; {e}\")\n",
    "        return \"\"\n",
    "\n",
    "def main():\n",
    "    while True:\n",
    "        text = speech_to_text()\n",
    "\n",
    "        if text:\n",
    "            print(\"You said:\", text)\n",
    "            emotion = recognize_emotion(text)\n",
    "            print(\"Emotion:\", emotion)\n",
    "\n",
    "            # Convert emotion to speech\n",
    "            engine = pyttsx3.init()\n",
    "            engine.say(f\"You sound {emotion}\")\n",
    "            engine.runAndWait()\n",
    "\n",
    "if __name__ == \"__main__\":\n",
    "    main()"
   ]
  }
 ],
 "metadata": {
  "kernelspec": {
   "display_name": "Python 3 (ipykernel)",
   "language": "python",
   "name": "python3"
  },
  "language_info": {
   "codemirror_mode": {
    "name": "ipython",
    "version": 3
   },
   "file_extension": ".py",
   "mimetype": "text/x-python",
   "name": "python",
   "nbconvert_exporter": "python",
   "pygments_lexer": "ipython3",
   "version": "3.11.5"
  }
 }
